{
 "cells": [
  {
   "cell_type": "markdown",
   "metadata": {
    "toc-hr-collapsed": false
   },
   "source": [
    "# Airmass plots for Messier and NGC objects"
   ]
  },
  {
   "cell_type": "markdown",
   "metadata": {},
   "source": [
    "Update IERS Bulletin A Earth Orientation Parameters from USNO if necessary."
   ]
  },
  {
   "cell_type": "code",
   "execution_count": null,
   "metadata": {},
   "outputs": [],
   "source": [
    "from astroplan import download_IERS_A\n",
    "download_IERS_A()"
   ]
  },
  {
   "cell_type": "markdown",
   "metadata": {},
   "source": [
    "General imports"
   ]
  },
  {
   "cell_type": "code",
   "execution_count": 1,
   "metadata": {},
   "outputs": [],
   "source": [
    "from datetime import datetime\n",
    "import pytz as tz\n",
    "import numpy as np\n",
    "import matplotlib.pyplot as plt \n",
    "import matplotlib.dates as mdates\n",
    "months = mdates.MonthLocator()\n",
    "\n",
    "import astropy.units as u\n",
    "from astropy.time import Time\n",
    "from astropy.table import Table\n",
    "from astropy.coordinates import EarthLocation, SkyCoord\n",
    "from astroplan import Observer, FixedTarget\n",
    "from astroplan.plots import plot_airmass"
   ]
  },
  {
   "cell_type": "code",
   "execution_count": 2,
   "metadata": {},
   "outputs": [],
   "source": [
    "%matplotlib inline"
   ]
  },
  {
   "cell_type": "markdown",
   "metadata": {},
   "source": [
    "Function to generate an array of UTC julian dates 2 hrs before sunset to 2 hrs after sunrise the following day."
   ]
  },
  {
   "cell_type": "code",
   "execution_count": 3,
   "metadata": {},
   "outputs": [],
   "source": [
    "def time_range(obs, time):\n",
    "    sun_set = obs.sun_set_time(time, which='nearest')\n",
    "    sun_rise = obs.sun_rise_time(time, which='next')\n",
    "    start_time = sun_set-2*u.h\n",
    "    end_time = sun_rise+2*u.h\n",
    "    t_delta = end_time - start_time\n",
    "    return start_time + t_delta*np.linspace(0, 1, 75)"
   ]
  },
  {
   "cell_type": "markdown",
   "metadata": {},
   "source": [
    "Function to generate target from name."
   ]
  },
  {
   "cell_type": "code",
   "execution_count": 4,
   "metadata": {},
   "outputs": [],
   "source": [
    "def tgt_from_name(table, tgt):\n",
    "    if table.meta['catalog'] == 'Messier':\n",
    "        name, ra, dec, con, Type, ngc  = table.loc[tgt]['ID','RA','Dec', 'con', 'type', 'NGC/IC']\n",
    "        return FixedTarget(coord=SkyCoord(ra, dec), name=f'{name} ({ngc}), {Type} in {con}')\n",
    "    elif table.meta['catalog'] == 'NGC/IC':\n",
    "        name, ra, dec, con, Type  = table.loc[tgt]['ID','RA','Dec', 'con', 'type']\n",
    "        return FixedTarget(coord=SkyCoord(ra, dec), name=f'{name}, {Type} in {con}')"
   ]
  },
  {
   "cell_type": "markdown",
   "metadata": {},
   "source": [
    "Function to generate a target list from a table"
   ]
  },
  {
   "cell_type": "code",
   "execution_count": 5,
   "metadata": {},
   "outputs": [],
   "source": [
    "def tgt_list(table):\n",
    "    if table.meta['catalog'] == 'Messier':\n",
    "        return [FixedTarget(coord=SkyCoord(ra, dec), name=f'{name} ({ngc}), {Type} in {con}')\n",
    "         for name, ra, dec, con, Type, ngc in table['ID','RA','Dec', 'con', 'type', 'NGC/IC']]\n",
    "    elif table.meta['catalog'] == 'NGC/IC':\n",
    "        return [FixedTarget(coord=SkyCoord(ra, dec), name=f'{name}, {Type} in {con}')\n",
    "                for name, ra, dec, con, Type in table['ID','RA','Dec', 'con', 'type']]"
   ]
  },
  {
   "cell_type": "markdown",
   "metadata": {
    "toc-hr-collapsed": false
   },
   "source": [
    "## Observer location and time"
   ]
  },
  {
   "cell_type": "markdown",
   "metadata": {},
   "source": [
    "An observer can be initialized with a site from the astropy sites list. `EarthLocation.get_site_names()` will return a list of default observatories. Sites not in the default list can be defined using `EarthLocation.from_geodetic()`."
   ]
  },
  {
   "cell_type": "markdown",
   "metadata": {},
   "source": [
    "### Klee Mill, Sykesville, MD"
   ]
  },
  {
   "cell_type": "code",
   "execution_count": 6,
   "metadata": {},
   "outputs": [],
   "source": [
    "loc_km = EarthLocation.from_geodetic(-76.989933*u.deg, 39.435108*u.deg, 197*u.m)\n",
    "km = Observer(location=loc_km, name=\"Klee Mill, Sykesville, MD\", timezone=\"US/Eastern\")"
   ]
  },
  {
   "cell_type": "markdown",
   "metadata": {},
   "source": [
    "### Bear Branch Observatory, Westminster, MD"
   ]
  },
  {
   "cell_type": "code",
   "execution_count": 7,
   "metadata": {},
   "outputs": [],
   "source": [
    "# from Google Maps\n",
    "loc = EarthLocation.from_geodetic(-76.986530*u.deg, 39.647191*u.deg, 210*u.m)\n",
    "bb = Observer(location=loc, name=\"Bear Branch Observatory, Westminster, MD\",\n",
    "                       timezone=\"US/Eastern\")"
   ]
  },
  {
   "cell_type": "markdown",
   "metadata": {},
   "source": [
    "### Almanac"
   ]
  },
  {
   "cell_type": "markdown",
   "metadata": {},
   "source": [
    "**UTC Date and Time for obervations**"
   ]
  },
  {
   "cell_type": "code",
   "execution_count": 8,
   "metadata": {},
   "outputs": [],
   "source": [
    "time = Time('2019-05-09 01:00:00') # 2019-05-08 21:00:00 EDT\n",
    "timeNow = Time.now() #current time"
   ]
  },
  {
   "cell_type": "code",
   "execution_count": 9,
   "metadata": {},
   "outputs": [
    {
     "name": "stdout",
     "output_type": "stream",
     "text": [
      "Almanac for Bear Branch Observatory (UTC)\n",
      "-----------------------------------------\n",
      "Sunset: 2019-05-09 00:03:58.824\n",
      "Even Ast Twi: 2019-05-09 01:55:01.432\n",
      "Morn Ast Twi: 2019-05-09 08:13:28.302\n",
      "Sunrise: 2019-05-09 10:04:28.679\n"
     ]
    }
   ],
   "source": [
    "sunset = bb.sun_set_time(time, which='nearest')\n",
    "sunrise = bb.sun_rise_time(time, which='next')\n",
    "ast_twi_end = bb.twilight_evening_astronomical(time, which='nearest')\n",
    "ast_twi_bgn = bb.twilight_morning_astronomical(time, which='next')\n",
    "print('Almanac for Bear Branch Observatory (UTC)\\n'+41*'-')\n",
    "print(f'Sunset: {sunset.iso}\\nEven Ast Twi: {ast_twi_end.iso}\\nMorn Ast Twi: {ast_twi_bgn.iso}\\nSunrise: {sunrise.iso}')"
   ]
  },
  {
   "cell_type": "markdown",
   "metadata": {},
   "source": [
    "**Local sidereal time** at astronomical twilight"
   ]
  },
  {
   "cell_type": "code",
   "execution_count": 10,
   "metadata": {},
   "outputs": [
    {
     "data": {
      "text/latex": [
       "$11^\\mathrm{h}53^\\mathrm{m}27.9523^\\mathrm{s}$"
      ],
      "text/plain": [
       "<Longitude 11.89109787 hourangle>"
      ]
     },
     "execution_count": 10,
     "metadata": {},
     "output_type": "execute_result"
    }
   ],
   "source": [
    "bb.local_sidereal_time(ast_twi_end)"
   ]
  },
  {
   "cell_type": "markdown",
   "metadata": {},
   "source": [
    "Set up the range for airmass plots."
   ]
  },
  {
   "cell_type": "code",
   "execution_count": 11,
   "metadata": {},
   "outputs": [],
   "source": [
    "observe_time = time_range(bb, time)"
   ]
  },
  {
   "cell_type": "markdown",
   "metadata": {
    "toc-hr-collapsed": false
   },
   "source": [
    "## Observation targets"
   ]
  },
  {
   "cell_type": "markdown",
   "metadata": {},
   "source": [
    "### Messier Targets"
   ]
  },
  {
   "cell_type": "code",
   "execution_count": 12,
   "metadata": {},
   "outputs": [],
   "source": [
    "# read in Messier targets from file\n",
    "objects = np.genfromtxt('./data/messier', autostrip=True, delimiter=(6,14,16,7,6,9,5,6,10,40),\n",
    "                             dtype=['<U4','<U12','<U14','<U5','<U4','<U9','<U3','<U4','<U8','<U40'])"
   ]
  },
  {
   "cell_type": "code",
   "execution_count": 13,
   "metadata": {},
   "outputs": [],
   "source": [
    "# create Astropy Table from objects array\n",
    "Messier = Table(objects, names=('ID','RA','Dec','epoch','mag','size','con','type',\n",
    "                                'NGC/IC', 'comment'), meta={'catalog': 'Messier'})\n",
    "Messier.add_index('ID')\n",
    "# Messier.sort(keys='Dec')"
   ]
  },
  {
   "cell_type": "code",
   "execution_count": 14,
   "metadata": {},
   "outputs": [],
   "source": [
    "# create target by name from table\n",
    "name, ra, dec = Messier.loc['M3']['ID','RA','Dec']\n",
    "M3 = FixedTarget(coord=SkyCoord(ra, dec), name=name)"
   ]
  },
  {
   "cell_type": "code",
   "execution_count": 15,
   "metadata": {},
   "outputs": [
    {
     "data": {
      "text/plain": [
       "<FixedTarget \"M3 (NGC 5272), GlCl in CVn\" at SkyCoord (ICRS): (ra, dec) in deg (205.546775, 28.37545417)>"
      ]
     },
     "execution_count": 15,
     "metadata": {},
     "output_type": "execute_result"
    }
   ],
   "source": [
    "M3 = tgt_from_name(Messier, 'M3'); M3"
   ]
  },
  {
   "cell_type": "code",
   "execution_count": 16,
   "metadata": {},
   "outputs": [],
   "source": [
    "# create target list from table\n",
    "messier_targets = [FixedTarget(coord=SkyCoord(ra, dec), name=name)\n",
    "                   for name, ra, dec in Messier['ID','RA','Dec']]"
   ]
  },
  {
   "cell_type": "code",
   "execution_count": 17,
   "metadata": {},
   "outputs": [],
   "source": [
    "messier_targets = tgt_list(Messier)"
   ]
  },
  {
   "cell_type": "markdown",
   "metadata": {},
   "source": [
    "### RASC best NGC/IC"
   ]
  },
  {
   "cell_type": "code",
   "execution_count": 18,
   "metadata": {},
   "outputs": [],
   "source": [
    "# read in RASC targets from file\n",
    "objects = np.genfromtxt('./data/rasc', autostrip=True, delimiter=(10,10,9,6,10,5,7,45),\n",
    "                             dtype=['<U8','<U8','<U7','<U4','<U8','<U3','<U5','<U45'])"
   ]
  },
  {
   "cell_type": "code",
   "execution_count": 19,
   "metadata": {},
   "outputs": [],
   "source": [
    "RASC = Table(objects, names=('ID', 'RA', 'Dec', 'mag', 'size', 'con',\n",
    "                             'type', 'comment'), meta={'catalog': 'NGC/IC'})\n",
    "RASC.add_index('ID')\n",
    "# RASC.sort(keys='Dec')"
   ]
  },
  {
   "cell_type": "code",
   "execution_count": 20,
   "metadata": {},
   "outputs": [],
   "source": [
    "# create target by name from table\n",
    "name, ra, dec = RASC.loc['NGC 7635']['ID','RA','Dec']\n",
    "NGC7635 = FixedTarget(coord=SkyCoord(ra, dec), name=name)"
   ]
  },
  {
   "cell_type": "code",
   "execution_count": 21,
   "metadata": {},
   "outputs": [
    {
     "data": {
      "text/plain": [
       "<FixedTarget \"NGC 7635, EN in Cas\" at SkyCoord (ICRS): (ra, dec) in deg (350.175, 61.2)>"
      ]
     },
     "execution_count": 21,
     "metadata": {},
     "output_type": "execute_result"
    }
   ],
   "source": [
    "NGC7635 = tgt_from_name(RASC, 'NGC 7635'); NGC7635"
   ]
  },
  {
   "cell_type": "code",
   "execution_count": 22,
   "metadata": {},
   "outputs": [],
   "source": [
    "# create target list from table\n",
    "ngc_targets = [FixedTarget(coord=SkyCoord(ra, dec), name=name)\n",
    "               for name, ra, dec in RASC['ID','RA','Dec']]"
   ]
  },
  {
   "cell_type": "markdown",
   "metadata": {},
   "source": [
    "## Airmass plots"
   ]
  },
  {
   "cell_type": "markdown",
   "metadata": {},
   "source": [
    "M13 (NGC 6205), GlCl in Her"
   ]
  },
  {
   "cell_type": "code",
   "execution_count": 23,
   "metadata": {},
   "outputs": [],
   "source": [
    "M13 = tgt_from_name(Messier, 'M13')"
   ]
  },
  {
   "cell_type": "code",
   "execution_count": 24,
   "metadata": {},
   "outputs": [
    {
     "data": {
      "image/png": "[encoded data removed]",
      "text/plain": [
       "<Figure size 720x360 with 2 Axes>"
      ]
     },
     "metadata": {
      "needs_background": "light"
     },
     "output_type": "display_data"
    }
   ],
   "source": [
    "plt.figure(figsize=(10,5))\n",
    "plot_airmass(M13, bb, observe_time, brightness_shading=True, altitude_yaxis=True)\n",
    "plt.title(M13.name);\n",
    "plt.savefig('./plots/m13_airmass.pdf')"
   ]
  },
  {
   "cell_type": "code",
   "execution_count": null,
   "metadata": {},
   "outputs": [],
   "source": []
  }
 ],
 "metadata": {
  "hide_input": false,
  "kernelspec": {
   "display_name": "Python 3",
   "language": "python",
   "name": "python3"
  },
  "language_info": {
   "codemirror_mode": {
    "name": "ipython",
    "version": 3
   },
   "file_extension": ".py",
   "mimetype": "text/x-python",
   "name": "python",
   "nbconvert_exporter": "python",
   "pygments_lexer": "ipython3",
   "version": "3.7.3"
  },
  "toc": {
   "base_numbering": 1,
   "nav_menu": {},
   "number_sections": false,
   "sideBar": true,
   "skip_h1_title": false,
   "title_cell": "Table of Contents",
   "title_sidebar": "Contents",
   "toc_cell": false,
   "toc_position": {},
   "toc_section_display": true,
   "toc_window_display": false
  },
  "toc-autonumbering": false,
  "toc-showcode": false,
  "toc-showmarkdowntxt": false,
  "toc-showtags": false
 },
 "nbformat": 4,
 "nbformat_minor": 2
}
