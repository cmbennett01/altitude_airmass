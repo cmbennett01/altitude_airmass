{
 "cells": [
  {
   "cell_type": "markdown",
   "metadata": {
    "toc-hr-collapsed": false
   },
   "source": [
    "# Altitude plots for Messier and NGC objects"
   ]
  },
  {
   "cell_type": "markdown",
   "metadata": {},
   "source": [
    "Update IERS Bulletin A Earth Orientation Parameters from USNO if necessary."
   ]
  },
  {
   "cell_type": "code",
   "execution_count": 1,
   "metadata": {},
   "outputs": [],
   "source": [
    "from astroplan import download_IERS_A\n",
    "download_IERS_A()"
   ]
  },
  {
   "cell_type": "markdown",
   "metadata": {},
   "source": [
    "General imports"
   ]
  },
  {
   "cell_type": "code",
   "execution_count": 2,
   "metadata": {},
   "outputs": [],
   "source": [
    "from datetime import datetime\n",
    "import pytz as tz\n",
    "import numpy as np\n",
    "import matplotlib.pyplot as plt \n",
    "import matplotlib.dates as mdates\n",
    "months = mdates.MonthLocator()\n",
    "\n",
    "import astropy.units as u\n",
    "from astropy.time import Time\n",
    "from astropy.table import Table\n",
    "from astropy.coordinates import EarthLocation, SkyCoord\n",
    "from astroplan import Observer, FixedTarget"
   ]
  },
  {
   "cell_type": "code",
   "execution_count": 3,
   "metadata": {},
   "outputs": [],
   "source": [
    "%matplotlib inline"
   ]
  },
  {
   "cell_type": "markdown",
   "metadata": {},
   "source": [
    "Function to generate an array of UTC julian dates at astronomical twilight every day for one year."
   ]
  },
  {
   "cell_type": "code",
   "execution_count": 4,
   "metadata": {},
   "outputs": [],
   "source": [
    "def ast_twi_rng(obs, time):\n",
    "    begin = Time(time)\n",
    "    dates = [begin + i*u.day for i in range(0,366)]\n",
    "    ast_twi = []\n",
    "    for date in dates:\n",
    "        ast_twi.append(bb.twilight_evening_astronomical(date))\n",
    "    return np.array(ast_twi)"
   ]
  },
  {
   "cell_type": "markdown",
   "metadata": {},
   "source": [
    "Function to generate target from name."
   ]
  },
  {
   "cell_type": "code",
   "execution_count": 5,
   "metadata": {},
   "outputs": [],
   "source": [
    "def tgt_from_name(table, tgt):\n",
    "    if table.meta['catalog'] == 'Messier':\n",
    "        name, ra, dec, con, Type, ngc  = table.loc[tgt]['ID','RA','Dec', 'con', 'type', 'NGC/IC']\n",
    "        return FixedTarget(coord=SkyCoord(ra, dec), name=f'{name} ({ngc}), {Type} in {con}')\n",
    "    elif table.meta['catalog'] == 'NGC/IC':\n",
    "        name, ra, dec, con, Type  = table.loc[tgt]['ID','RA','Dec', 'con', 'type']\n",
    "        return FixedTarget(coord=SkyCoord(ra, dec), name=f'{name}, {Type} in {con}')"
   ]
  },
  {
   "cell_type": "markdown",
   "metadata": {},
   "source": [
    "Function to generate a target list from a table"
   ]
  },
  {
   "cell_type": "code",
   "execution_count": 6,
   "metadata": {},
   "outputs": [],
   "source": [
    "def tgt_list(table):\n",
    "    if table.meta['catalog'] == 'Messier':\n",
    "        return [FixedTarget(coord=SkyCoord(ra, dec), name=f'{name} ({ngc}), {Type} in {con}')\n",
    "         for name, ra, dec, con, Type, ngc in table['ID','RA','Dec', 'con', 'type', 'NGC/IC']]\n",
    "    elif table.meta['catalog'] == 'NGC/IC':\n",
    "        return [FixedTarget(coord=SkyCoord(ra, dec), name=f'{name}, {Type} in {con}')\n",
    "                for name, ra, dec, con, Type in table['ID','RA','Dec', 'con', 'type']]"
   ]
  },
  {
   "cell_type": "markdown",
   "metadata": {},
   "source": [
    "Function to generate an altitude plot"
   ]
  },
  {
   "cell_type": "code",
   "execution_count": 7,
   "metadata": {},
   "outputs": [],
   "source": [
    "def alt_plot(time_rng, tgt, save=''):\n",
    "    obj = bb.altaz(time_rng, tgt)\n",
    "\n",
    "    fig, ax = plt.subplots(1, 1, figsize=(10, 4))\n",
    "    ax.plot(list(obj.obstime.datetime), list(obj.alt.value), 'g')\n",
    "    ax.set_title(tgt.name)\n",
    "    ax.set_ylabel('altitude [deg]')\n",
    "    ax.set_ylim(0,90)\n",
    "    ax.set_xlim(datetime(2019, 1, 1), datetime(2020, 1, 1))\n",
    "    ax.xaxis.set_major_locator(months)\n",
    "    ax.xaxis.set_major_formatter(mdates.DateFormatter('%b'))\n",
    "    ax.grid()\n",
    "    if save !='':\n",
    "        plt.savefig(save)"
   ]
  },
  {
   "cell_type": "markdown",
   "metadata": {
    "toc-hr-collapsed": false
   },
   "source": [
    "## Observer location and time"
   ]
  },
  {
   "cell_type": "markdown",
   "metadata": {},
   "source": [
    "An observer can be initialized with a site from the astropy sites list. `EarthLocation.get_site_names()` will return a list of default observatories. Sites not in the default list can be defined using `EarthLocation.from_geodetic()`."
   ]
  },
  {
   "cell_type": "markdown",
   "metadata": {},
   "source": [
    "### Klee Mill, Sykesville, MD"
   ]
  },
  {
   "cell_type": "code",
   "execution_count": 8,
   "metadata": {},
   "outputs": [],
   "source": [
    "loc_km = EarthLocation.from_geodetic(-76.989933*u.deg, 39.435108*u.deg, 197*u.m)\n",
    "km = Observer(location=loc_km, name=\"Klee Mill, Sykesville, MD\", timezone=\"US/Eastern\")"
   ]
  },
  {
   "cell_type": "markdown",
   "metadata": {},
   "source": [
    "### Bear Branch Observatory, Westminster, MD"
   ]
  },
  {
   "cell_type": "code",
   "execution_count": 9,
   "metadata": {},
   "outputs": [],
   "source": [
    "# from Google Maps\n",
    "loc = EarthLocation.from_geodetic(-76.986530*u.deg, 39.647191*u.deg, 210*u.m)\n",
    "bb = Observer(location=loc, name=\"Bear Branch Observatory, Westminster, MD\",\n",
    "                       timezone=\"US/Eastern\")"
   ]
  },
  {
   "cell_type": "markdown",
   "metadata": {},
   "source": [
    "### Observation times"
   ]
  },
  {
   "cell_type": "markdown",
   "metadata": {},
   "source": [
    "**UTC Date and Time for obervations**"
   ]
  },
  {
   "cell_type": "code",
   "execution_count": 10,
   "metadata": {},
   "outputs": [],
   "source": [
    "time = Time('2019-05-09 01:00:00') # 2019-05-08 21:00:00 EDT\n",
    "timeNow = Time.now() #current time"
   ]
  },
  {
   "cell_type": "markdown",
   "metadata": {},
   "source": [
    "Set up the range times for Astronomical twilight."
   ]
  },
  {
   "cell_type": "raw",
   "metadata": {},
   "source": [
    "ast_twi_2019 = ast_twi_rng(bb, '2019-01-01')\n",
    "np.save('./data/bb_ast_twi_2019.npy', ast_twi_2019)"
   ]
  },
  {
   "cell_type": "code",
   "execution_count": 11,
   "metadata": {},
   "outputs": [],
   "source": [
    "ast_twilight_2019 = np.load('./data/bb_ast_twi_2019.npy', allow_pickle=True)"
   ]
  },
  {
   "cell_type": "markdown",
   "metadata": {
    "toc-hr-collapsed": false
   },
   "source": [
    "## Observation targets"
   ]
  },
  {
   "cell_type": "markdown",
   "metadata": {},
   "source": [
    "### Messier Targets"
   ]
  },
  {
   "cell_type": "code",
   "execution_count": 12,
   "metadata": {},
   "outputs": [],
   "source": [
    "# read in Messier targets from file\n",
    "objects = np.genfromtxt('./data/messier', autostrip=True, delimiter=(6,14,16,7,6,9,5,6,10,40),\n",
    "                             dtype=['<U4','<U12','<U14','<U5','<U4','<U9','<U3','<U4','<U8','<U40'])"
   ]
  },
  {
   "cell_type": "code",
   "execution_count": 13,
   "metadata": {},
   "outputs": [],
   "source": [
    "# create Astropy Table from objects array\n",
    "Messier = Table(objects, names=('ID','RA','Dec','epoch','mag','size','con','type',\n",
    "                                'NGC/IC', 'comment'), meta={'catalog': 'Messier'})\n",
    "Messier.add_index('ID')\n",
    "# Messier.sort(keys='Dec')"
   ]
  },
  {
   "cell_type": "code",
   "execution_count": 14,
   "metadata": {},
   "outputs": [],
   "source": [
    "# create target by name from table\n",
    "name, ra, dec = Messier.loc['M3']['ID','RA','Dec']\n",
    "M3 = FixedTarget(coord=SkyCoord(ra, dec), name=name)"
   ]
  },
  {
   "cell_type": "code",
   "execution_count": 15,
   "metadata": {},
   "outputs": [
    {
     "data": {
      "text/plain": [
       "<FixedTarget \"M3 (NGC 5272), GlCl in CVn\" at SkyCoord (ICRS): (ra, dec) in deg (205.546775, 28.37545417)>"
      ]
     },
     "execution_count": 15,
     "metadata": {},
     "output_type": "execute_result"
    }
   ],
   "source": [
    "M3 = tgt_from_name(Messier, 'M3'); M3"
   ]
  },
  {
   "cell_type": "code",
   "execution_count": 16,
   "metadata": {},
   "outputs": [],
   "source": [
    "# create target list from table\n",
    "messier_targets = [FixedTarget(coord=SkyCoord(ra, dec), name=name)\n",
    "                   for name, ra, dec in Messier['ID','RA','Dec']]"
   ]
  },
  {
   "cell_type": "code",
   "execution_count": 17,
   "metadata": {},
   "outputs": [],
   "source": [
    "messier_targets = tgt_list(Messier)"
   ]
  },
  {
   "cell_type": "markdown",
   "metadata": {},
   "source": [
    "### RASC best NGC/IC"
   ]
  },
  {
   "cell_type": "code",
   "execution_count": 18,
   "metadata": {},
   "outputs": [],
   "source": [
    "# read in RASC targets from file\n",
    "objects = np.genfromtxt('./data/rasc', autostrip=True, delimiter=(10,10,9,6,10,5,7,45),\n",
    "                             dtype=['<U8','<U8','<U7','<U4','<U8','<U3','<U5','<U45'])"
   ]
  },
  {
   "cell_type": "code",
   "execution_count": 19,
   "metadata": {},
   "outputs": [],
   "source": [
    "RASC = Table(objects, names=('ID', 'RA', 'Dec', 'mag', 'size', 'con',\n",
    "                             'type', 'comment'), meta={'catalog': 'NGC/IC'})\n",
    "RASC.add_index('ID')\n",
    "# RASC.sort(keys='Dec')"
   ]
  },
  {
   "cell_type": "code",
   "execution_count": 20,
   "metadata": {},
   "outputs": [],
   "source": [
    "# create target by name from table\n",
    "name, ra, dec = RASC.loc['NGC 7635']['ID','RA','Dec']\n",
    "NGC7635 = FixedTarget(coord=SkyCoord(ra, dec), name=name)"
   ]
  },
  {
   "cell_type": "code",
   "execution_count": 21,
   "metadata": {},
   "outputs": [
    {
     "data": {
      "text/plain": [
       "<FixedTarget \"NGC 7635, EN in Cas\" at SkyCoord (ICRS): (ra, dec) in deg (350.175, 61.2)>"
      ]
     },
     "execution_count": 21,
     "metadata": {},
     "output_type": "execute_result"
    }
   ],
   "source": [
    "NGC7635 = tgt_from_name(RASC, 'NGC 7635'); NGC7635"
   ]
  },
  {
   "cell_type": "code",
   "execution_count": 22,
   "metadata": {},
   "outputs": [],
   "source": [
    "# create target list from table\n",
    "ngc_targets = [FixedTarget(coord=SkyCoord(ra, dec), name=name)\n",
    "               for name, ra, dec in RASC['ID','RA','Dec']]"
   ]
  },
  {
   "cell_type": "markdown",
   "metadata": {},
   "source": [
    "## Altitude plots\n",
    "\n",
    "Shows target altitude at astronomical twilight for each day throughout the year"
   ]
  },
  {
   "cell_type": "code",
   "execution_count": 23,
   "metadata": {},
   "outputs": [
    {
     "data": {
      "image/png": "[encoded data removed]",
      "text/plain": [
       "<Figure size 720x288 with 1 Axes>"
      ]
     },
     "metadata": {
      "needs_background": "light"
     },
     "output_type": "display_data"
    }
   ],
   "source": [
    "M13 = tgt_from_name(Messier, 'M13')\n",
    "alt_plot(ast_twilight_2019, M13, save='./plots/M13_alt_2019.pdf')"
   ]
  },
  {
   "cell_type": "code",
   "execution_count": null,
   "metadata": {},
   "outputs": [],
   "source": []
  }
 ],
 "metadata": {
  "kernelspec": {
   "display_name": "Python 3",
   "language": "python",
   "name": "python3"
  },
  "language_info": {
   "codemirror_mode": {
    "name": "ipython",
    "version": 3
   },
   "file_extension": ".py",
   "mimetype": "text/x-python",
   "name": "python",
   "nbconvert_exporter": "python",
   "pygments_lexer": "ipython3",
   "version": "3.7.3"
  }
 },
 "nbformat": 4,
 "nbformat_minor": 2
}
